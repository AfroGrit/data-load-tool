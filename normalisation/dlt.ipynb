{
 "cells": [
  {
   "cell_type": "markdown",
   "metadata": {},
   "source": [
    "**What is dlt?**\n",
    "`dlt` is an open-source Python library for loading data from various sources into structured datasets. It's easy to install and use in your Python scripts.\n",
    "\n",
    "**Why use dlt?**\n",
    "- **Automated Maintenance**: `dlt` simplifies maintenance with schema inference and evolution.\n",
    "- **Versatility**: It can be used on Airflow, serverless functions, notebooks, and more.\n",
    "- **User-friendly Interface**: `dlt` provides a user-friendly, declarative interface.\n",
    "\n",
    "**Benefits for Data Engineers:**\n",
    "- **Efficient Data Extraction and Loading**: `dlt` simplifies data extraction and loading, supporting scalability through iterators, chunking, and parallelization.\n",
    "- **Automated Schema Management**: `dlt` automatically infers a schema from data and adapts to data evolution.\n",
    "- **Data Governance Support**: `dlt` offers robust governance support through pipeline metadata utilization, schema enforcement, and alerts.\n",
    "- **Flexibility and Scalability**: `dlt` can be used on various platforms and scales on both micro and large infrastructures.\n",
    "- **Post-Loading Transformations**: `dlt` provides options for transformations after loading the data."
   ]
  },
  {
   "cell_type": "markdown",
   "metadata": {},
   "source": []
  },
  {
   "cell_type": "code",
   "execution_count": 1,
   "metadata": {},
   "outputs": [],
   "source": [
    "import requests"
   ]
  },
  {
   "cell_type": "code",
   "execution_count": 2,
   "metadata": {},
   "outputs": [],
   "source": [
    "\n",
    "\n",
    "BASE_API_URL = \"https://us-central1-dlthub-analytics.cloudfunctions.net/data_engineering_zoomcamp_api\"\n",
    "\n",
    "def paginated_getter():\n",
    "    \"\"\"\n",
    "    A generator function that gets data from an API and paginates until there is no more data.\n",
    "    By yielding pages, we \"microbatch\", which speeds up downstream processing.\n",
    "\n",
    "    Yields:\n",
    "    dict: The next page of data from the API.\n",
    "    \"\"\"\n",
    "    page_number = 1\n",
    "\n",
    "    while True:\n",
    "        try:\n",
    "            # Set the query parameters\n",
    "            params = {'page': page_number}\n",
    "\n",
    "            # Make the GET request to the API\n",
    "            response = requests.get(BASE_API_URL, params=params)\n",
    "            response.raise_for_status()  # Raise an HTTPError for bad responses\n",
    "            page_json = response.json()\n",
    "\n",
    "            # if the page has no records, stop iterating\n",
    "            if not page_json:\n",
    "                break\n",
    "\n",
    "            print(f'Got page number {page_number} with {len(page_json)} records')\n",
    "            yield page_json\n",
    "            page_number += 1\n",
    "        except requests.exceptions.RequestException as e:\n",
    "            print(f\"Request failed: {e}\")\n",
    "            break\n",
    "        except Exception as e:\n",
    "            print(f\"An error occurred: {e}\")\n",
    "            break"
   ]
  },
  {
   "cell_type": "code",
   "execution_count": null,
   "metadata": {},
   "outputs": [],
   "source": []
  }
 ],
 "metadata": {
  "kernelspec": {
   "display_name": "zc-mlops",
   "language": "python",
   "name": "python3"
  },
  "language_info": {
   "codemirror_mode": {
    "name": "ipython",
    "version": 3
   },
   "file_extension": ".py",
   "mimetype": "text/x-python",
   "name": "python",
   "nbconvert_exporter": "python",
   "pygments_lexer": "ipython3",
   "version": "3.10.4"
  }
 },
 "nbformat": 4,
 "nbformat_minor": 2
}
